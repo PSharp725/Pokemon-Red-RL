{
 "cells": [
  {
   "cell_type": "markdown",
   "id": "3c69becf",
   "metadata": {},
   "source": [
    "# Pokemon Red RL\n",
    "\n",
    "[GitHub source for game environment](https://github.com/PWhiddy/PokemonRedExperiments/tree/master)\n",
    "\n",
    "## By: Patrick Sharp"
   ]
  },
  {
   "cell_type": "code",
   "execution_count": null,
   "id": "29a6e108",
   "metadata": {},
   "outputs": [
    {
     "name": "stdout",
     "output_type": "stream",
     "text": [
      "ea9bcae617fdf159b045185467ae58b2e4a48b9a  ../../PokemonRed.gb\n"
     ]
    }
   ],
   "source": [
    "# Check the hash of the ROM file (should be: ea9bcae617fdf159b045185467ae58b2e4a48b9a)\n",
    "# This script is used to verify the integrity of the ROM file\n",
    "# It should be run from the root of the repository\n",
    "!shasum ../../PokemonRed.gb"
   ]
  },
  {
   "cell_type": "code",
   "execution_count": null,
   "id": "b0ba0394",
   "metadata": {},
   "outputs": [],
   "source": []
  }
 ],
 "metadata": {
  "kernelspec": {
   "display_name": "venv",
   "language": "python",
   "name": "python3"
  },
  "language_info": {
   "codemirror_mode": {
    "name": "ipython",
    "version": 3
   },
   "file_extension": ".py",
   "mimetype": "text/x-python",
   "name": "python",
   "nbconvert_exporter": "python",
   "pygments_lexer": "ipython3",
   "version": "3.12.7"
  }
 },
 "nbformat": 4,
 "nbformat_minor": 5
}
